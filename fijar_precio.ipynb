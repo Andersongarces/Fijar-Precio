{
  "nbformat": 4,
  "nbformat_minor": 0,
  "metadata": {
    "colab": {
      "provenance": [],
      "authorship_tag": "ABX9TyOACNpvry97rCFrBkISUuLE",
      "include_colab_link": true
    },
    "kernelspec": {
      "name": "python3",
      "display_name": "Python 3"
    },
    "language_info": {
      "name": "python"
    }
  },
  "cells": [
    {
      "cell_type": "markdown",
      "metadata": {
        "id": "view-in-github",
        "colab_type": "text"
      },
      "source": [
        "<a href=\"https://colab.research.google.com/github/Andersongarces/Fijar-Precio/blob/main/fijar_precio.ipynb\" target=\"_parent\"><img src=\"https://colab.research.google.com/assets/colab-badge.svg\" alt=\"Open In Colab\"/></a>"
      ]
    },
    {
      "cell_type": "markdown",
      "source": [
        "# Fijar precio de una camiseta por el Método de Costos"
      ],
      "metadata": {
        "id": "J0IkGt0CcMud"
      }
    },
    {
      "cell_type": "code",
      "execution_count": null,
      "metadata": {
        "id": "5-Cuh5s3l7k_",
        "colab": {
          "base_uri": "https://localhost:8080/"
        },
        "outputId": "9d0f68c2-718c-4bcc-ed4b-d661a3eb0e0f"
      },
      "outputs": [
        {
          "output_type": "stream",
          "name": "stdout",
          "text": [
            "Ingrese el costo de materiales por camiseta: 5\n",
            "Ingrese el costo de mano de obra directa por camiseta: 3\n",
            "Ingrese los costos indirectos asignados a cada camiseta: 2\n",
            "Ingrese el margen de ganancia deseado (en decimal): 0.4\n",
            "\n",
            "El precio de venta sugerido para cada camiseta es: $14.00\n"
          ]
        }
      ],
      "source": [
        "# Función para calcular el precio de venta\n",
        "def calcular_precio_venta(costo_materiales, costo_mano_obra, costos_indirectos, margen_ganancia):\n",
        "    # Calcular el costo total de producción\n",
        "    costo_total = costo_materiales + costo_mano_obra + costos_indirectos\n",
        "\n",
        "    # Calcular el precio de venta con el margen de ganancia deseado\n",
        "    precio_venta = costo_total + (costo_total * margen_ganancia)\n",
        "\n",
        "    return precio_venta\n",
        "\n",
        "# Entrada de datos desde el usuario\n",
        "costo_materiales = float(input(\"Ingrese el costo de materiales por camiseta: \"))\n",
        "costo_mano_obra = float(input(\"Ingrese el costo de mano de obra directa por camiseta: \"))\n",
        "costos_indirectos = float(input(\"Ingrese los costos indirectos asignados a cada camiseta: \"))\n",
        "margen_ganancia = float(input(\"Ingrese el margen de ganancia deseado (en decimal): \"))\n",
        "\n",
        "# Calcular el precio de venta utilizando la función\n",
        "precio_venta_calculado = calcular_precio_venta(costo_materiales, costo_mano_obra, costos_indirectos, margen_ganancia)\n",
        "\n",
        "# Mostrar el resultado al usuario\n",
        "print(f\"\\nEl precio de venta sugerido para cada camiseta es: ${precio_venta_calculado:.2f}\")\n"
      ]
    },
    {
      "cell_type": "markdown",
      "source": [],
      "metadata": {
        "id": "qd_dFhhAl_dJ"
      }
    }
  ]
}